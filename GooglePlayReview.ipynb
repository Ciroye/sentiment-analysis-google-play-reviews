{
  "nbformat": 4,
  "nbformat_minor": 0,
  "metadata": {
    "colab": {
      "name": "GooglePlayReview.ipynb",
      "provenance": [],
      "collapsed_sections": [],
      "toc_visible": true
    },
    "kernelspec": {
      "name": "python3",
      "display_name": "Python 3"
    },
    "accelerator": "GPU"
  },
  "cells": [
    {
      "cell_type": "markdown",
      "metadata": {
        "id": "XsP1xnif6jgM",
        "colab_type": "text"
      },
      "source": [
        "# Classification of Google Play ratings"
      ]
    },
    {
      "cell_type": "markdown",
      "metadata": {
        "id": "ynGUsi-I7ugJ",
        "colab_type": "text"
      },
      "source": [
        "## Libraries"
      ]
    },
    {
      "cell_type": "code",
      "metadata": {
        "id": "jERqLt1U7ypf",
        "colab_type": "code",
        "outputId": "581a2b10-bed0-46a8-f449-a82f883f4935",
        "colab": {
          "base_uri": "https://localhost:8080/",
          "height": 68
        }
      },
      "source": [
        "import pandas\n",
        "import tensorflow as tf\n",
        "import re\n",
        "import nltk\n",
        "import numpy\n",
        "\n",
        "from sklearn.model_selection import train_test_split\n",
        "from nltk.corpus import stopwords\n",
        "\n",
        "nltk.download('stopwords')"
      ],
      "execution_count": 72,
      "outputs": [
        {
          "output_type": "stream",
          "text": [
            "[nltk_data] Downloading package stopwords to /root/nltk_data...\n",
            "[nltk_data]   Package stopwords is already up-to-date!\n"
          ],
          "name": "stdout"
        },
        {
          "output_type": "execute_result",
          "data": {
            "text/plain": [
              "True"
            ]
          },
          "metadata": {
            "tags": []
          },
          "execution_count": 72
        }
      ]
    },
    {
      "cell_type": "markdown",
      "metadata": {
        "id": "ZDZZnveH71Xt",
        "colab_type": "text"
      },
      "source": [
        "## Load the data\n"
      ]
    },
    {
      "cell_type": "markdown",
      "metadata": {
        "id": "VhtrHgNQ6pHq",
        "colab_type": "text"
      },
      "source": [
        "* To be able to load the data, the `csv` file must be uploaded in the same execution environment (Sidebar> Files> Upload)"
      ]
    },
    {
      "cell_type": "code",
      "metadata": {
        "id": "3UThuURI8PO9",
        "colab_type": "code",
        "colab": {}
      },
      "source": [
        "dataframe = pandas.read_csv('https://raw.githubusercontent.com/Ciroye/sentiment-analysis-google-play-reviews/master/googleplaystore_user_reviews.csv')"
      ],
      "execution_count": 0,
      "outputs": []
    },
    {
      "cell_type": "code",
      "metadata": {
        "id": "rWCmQ8ldXzT7",
        "colab_type": "code",
        "outputId": "fbd350d5-98f1-41b9-84cb-b7d470cee684",
        "colab": {
          "base_uri": "https://localhost:8080/",
          "height": 204
        }
      },
      "source": [
        "dataframe.head()"
      ],
      "execution_count": 3,
      "outputs": [
        {
          "output_type": "execute_result",
          "data": {
            "text/html": [
              "<div>\n",
              "<style scoped>\n",
              "    .dataframe tbody tr th:only-of-type {\n",
              "        vertical-align: middle;\n",
              "    }\n",
              "\n",
              "    .dataframe tbody tr th {\n",
              "        vertical-align: top;\n",
              "    }\n",
              "\n",
              "    .dataframe thead th {\n",
              "        text-align: right;\n",
              "    }\n",
              "</style>\n",
              "<table border=\"1\" class=\"dataframe\">\n",
              "  <thead>\n",
              "    <tr style=\"text-align: right;\">\n",
              "      <th></th>\n",
              "      <th>App</th>\n",
              "      <th>Translated_Review</th>\n",
              "      <th>Sentiment</th>\n",
              "      <th>Sentiment_Polarity</th>\n",
              "      <th>Sentiment_Subjectivity</th>\n",
              "    </tr>\n",
              "  </thead>\n",
              "  <tbody>\n",
              "    <tr>\n",
              "      <th>0</th>\n",
              "      <td>10 Best Foods for You</td>\n",
              "      <td>I like eat delicious food. That's I'm cooking ...</td>\n",
              "      <td>Positive</td>\n",
              "      <td>1.00</td>\n",
              "      <td>0.533333</td>\n",
              "    </tr>\n",
              "    <tr>\n",
              "      <th>1</th>\n",
              "      <td>10 Best Foods for You</td>\n",
              "      <td>This help eating healthy exercise regular basis</td>\n",
              "      <td>Positive</td>\n",
              "      <td>0.25</td>\n",
              "      <td>0.288462</td>\n",
              "    </tr>\n",
              "    <tr>\n",
              "      <th>2</th>\n",
              "      <td>10 Best Foods for You</td>\n",
              "      <td>NaN</td>\n",
              "      <td>NaN</td>\n",
              "      <td>NaN</td>\n",
              "      <td>NaN</td>\n",
              "    </tr>\n",
              "    <tr>\n",
              "      <th>3</th>\n",
              "      <td>10 Best Foods for You</td>\n",
              "      <td>Works great especially going grocery store</td>\n",
              "      <td>Positive</td>\n",
              "      <td>0.40</td>\n",
              "      <td>0.875000</td>\n",
              "    </tr>\n",
              "    <tr>\n",
              "      <th>4</th>\n",
              "      <td>10 Best Foods for You</td>\n",
              "      <td>Best idea us</td>\n",
              "      <td>Positive</td>\n",
              "      <td>1.00</td>\n",
              "      <td>0.300000</td>\n",
              "    </tr>\n",
              "  </tbody>\n",
              "</table>\n",
              "</div>"
            ],
            "text/plain": [
              "                     App  ... Sentiment_Subjectivity\n",
              "0  10 Best Foods for You  ...               0.533333\n",
              "1  10 Best Foods for You  ...               0.288462\n",
              "2  10 Best Foods for You  ...                    NaN\n",
              "3  10 Best Foods for You  ...               0.875000\n",
              "4  10 Best Foods for You  ...               0.300000\n",
              "\n",
              "[5 rows x 5 columns]"
            ]
          },
          "metadata": {
            "tags": []
          },
          "execution_count": 3
        }
      ]
    },
    {
      "cell_type": "code",
      "metadata": {
        "id": "QfEA-CK5katk",
        "colab_type": "code",
        "outputId": "22c85bb1-fc8a-47fc-e957-4022bf6c8121",
        "colab": {
          "base_uri": "https://localhost:8080/",
          "height": 204
        }
      },
      "source": [
        "dataframe.tail()"
      ],
      "execution_count": 4,
      "outputs": [
        {
          "output_type": "execute_result",
          "data": {
            "text/html": [
              "<div>\n",
              "<style scoped>\n",
              "    .dataframe tbody tr th:only-of-type {\n",
              "        vertical-align: middle;\n",
              "    }\n",
              "\n",
              "    .dataframe tbody tr th {\n",
              "        vertical-align: top;\n",
              "    }\n",
              "\n",
              "    .dataframe thead th {\n",
              "        text-align: right;\n",
              "    }\n",
              "</style>\n",
              "<table border=\"1\" class=\"dataframe\">\n",
              "  <thead>\n",
              "    <tr style=\"text-align: right;\">\n",
              "      <th></th>\n",
              "      <th>App</th>\n",
              "      <th>Translated_Review</th>\n",
              "      <th>Sentiment</th>\n",
              "      <th>Sentiment_Polarity</th>\n",
              "      <th>Sentiment_Subjectivity</th>\n",
              "    </tr>\n",
              "  </thead>\n",
              "  <tbody>\n",
              "    <tr>\n",
              "      <th>64290</th>\n",
              "      <td>Houzz Interior Design Ideas</td>\n",
              "      <td>NaN</td>\n",
              "      <td>NaN</td>\n",
              "      <td>NaN</td>\n",
              "      <td>NaN</td>\n",
              "    </tr>\n",
              "    <tr>\n",
              "      <th>64291</th>\n",
              "      <td>Houzz Interior Design Ideas</td>\n",
              "      <td>NaN</td>\n",
              "      <td>NaN</td>\n",
              "      <td>NaN</td>\n",
              "      <td>NaN</td>\n",
              "    </tr>\n",
              "    <tr>\n",
              "      <th>64292</th>\n",
              "      <td>Houzz Interior Design Ideas</td>\n",
              "      <td>NaN</td>\n",
              "      <td>NaN</td>\n",
              "      <td>NaN</td>\n",
              "      <td>NaN</td>\n",
              "    </tr>\n",
              "    <tr>\n",
              "      <th>64293</th>\n",
              "      <td>Houzz Interior Design Ideas</td>\n",
              "      <td>NaN</td>\n",
              "      <td>NaN</td>\n",
              "      <td>NaN</td>\n",
              "      <td>NaN</td>\n",
              "    </tr>\n",
              "    <tr>\n",
              "      <th>64294</th>\n",
              "      <td>Houzz Interior Design Ideas</td>\n",
              "      <td>NaN</td>\n",
              "      <td>NaN</td>\n",
              "      <td>NaN</td>\n",
              "      <td>NaN</td>\n",
              "    </tr>\n",
              "  </tbody>\n",
              "</table>\n",
              "</div>"
            ],
            "text/plain": [
              "                               App  ... Sentiment_Subjectivity\n",
              "64290  Houzz Interior Design Ideas  ...                    NaN\n",
              "64291  Houzz Interior Design Ideas  ...                    NaN\n",
              "64292  Houzz Interior Design Ideas  ...                    NaN\n",
              "64293  Houzz Interior Design Ideas  ...                    NaN\n",
              "64294  Houzz Interior Design Ideas  ...                    NaN\n",
              "\n",
              "[5 rows x 5 columns]"
            ]
          },
          "metadata": {
            "tags": []
          },
          "execution_count": 4
        }
      ]
    },
    {
      "cell_type": "markdown",
      "metadata": {
        "id": "ITHbvcAn9HWU",
        "colab_type": "text"
      },
      "source": [
        "## Pre-process the data"
      ]
    },
    {
      "cell_type": "markdown",
      "metadata": {
        "id": "3BfZKxgT9QWS",
        "colab_type": "text"
      },
      "source": [
        "Before preparing the data to be suitable for the input of the neural network, those rows containing `NaN` will be deleted."
      ]
    },
    {
      "cell_type": "code",
      "metadata": {
        "id": "79SKlnTF9uNu",
        "colab_type": "code",
        "outputId": "dc0f2be8-7f7a-4026-b4f7-c6be0736f9f4",
        "colab": {
          "base_uri": "https://localhost:8080/",
          "height": 204
        }
      },
      "source": [
        "dataframe = dataframe.dropna()\n",
        "dataframe = dataframe[['Translated_Review','Sentiment']]\n",
        "dataframe.head()"
      ],
      "execution_count": 5,
      "outputs": [
        {
          "output_type": "execute_result",
          "data": {
            "text/html": [
              "<div>\n",
              "<style scoped>\n",
              "    .dataframe tbody tr th:only-of-type {\n",
              "        vertical-align: middle;\n",
              "    }\n",
              "\n",
              "    .dataframe tbody tr th {\n",
              "        vertical-align: top;\n",
              "    }\n",
              "\n",
              "    .dataframe thead th {\n",
              "        text-align: right;\n",
              "    }\n",
              "</style>\n",
              "<table border=\"1\" class=\"dataframe\">\n",
              "  <thead>\n",
              "    <tr style=\"text-align: right;\">\n",
              "      <th></th>\n",
              "      <th>Translated_Review</th>\n",
              "      <th>Sentiment</th>\n",
              "    </tr>\n",
              "  </thead>\n",
              "  <tbody>\n",
              "    <tr>\n",
              "      <th>0</th>\n",
              "      <td>I like eat delicious food. That's I'm cooking ...</td>\n",
              "      <td>Positive</td>\n",
              "    </tr>\n",
              "    <tr>\n",
              "      <th>1</th>\n",
              "      <td>This help eating healthy exercise regular basis</td>\n",
              "      <td>Positive</td>\n",
              "    </tr>\n",
              "    <tr>\n",
              "      <th>3</th>\n",
              "      <td>Works great especially going grocery store</td>\n",
              "      <td>Positive</td>\n",
              "    </tr>\n",
              "    <tr>\n",
              "      <th>4</th>\n",
              "      <td>Best idea us</td>\n",
              "      <td>Positive</td>\n",
              "    </tr>\n",
              "    <tr>\n",
              "      <th>5</th>\n",
              "      <td>Best way</td>\n",
              "      <td>Positive</td>\n",
              "    </tr>\n",
              "  </tbody>\n",
              "</table>\n",
              "</div>"
            ],
            "text/plain": [
              "                                   Translated_Review Sentiment\n",
              "0  I like eat delicious food. That's I'm cooking ...  Positive\n",
              "1    This help eating healthy exercise regular basis  Positive\n",
              "3         Works great especially going grocery store  Positive\n",
              "4                                       Best idea us  Positive\n",
              "5                                           Best way  Positive"
            ]
          },
          "metadata": {
            "tags": []
          },
          "execution_count": 5
        }
      ]
    },
    {
      "cell_type": "markdown",
      "metadata": {
        "id": "BCikIj8V_lME",
        "colab_type": "text"
      },
      "source": [
        "From the columns that interest us, the following steps must be performed to be able to unify all the sentences:\n",
        "- Put all the letters in lower case.\n",
        "- Remove punctuation marks, converting all the words that were together into separate words.\n",
        "- Delete * stop words *: Short words that have no meaning in themselves, such as conjunctions or prepositions."
      ]
    },
    {
      "cell_type": "code",
      "metadata": {
        "id": "E0iYOnv_D8fN",
        "colab_type": "code",
        "colab": {}
      },
      "source": [
        "def preprocess_text(sen):\n",
        "    # Eliminar símbolos de puntuación y números\n",
        "    sentence = re.sub('[^a-zA-Z]', ' ', sen)\n",
        "\n",
        "    # Eliminar carácteres sueltos\n",
        "    sentence = re.sub(r\"\\s+[a-zA-Z]\\s+\", ' ', sentence)\n",
        "\n",
        "    # Eliminar espacios excesivos\n",
        "    sentence = re.sub(r'\\s+', ' ', sentence)\n",
        "\n",
        "    # Convertir a minúscula\n",
        "    sentence = sentence.lower()\n",
        "  \n",
        "    # Eliminar las stopwords.\n",
        "    words = sentence.split()\n",
        "    filtered_words = [word for word in words if word not in stopwords.words('english')]\n",
        "    \n",
        "    return ' '.join(filtered_words)"
      ],
      "execution_count": 0,
      "outputs": []
    },
    {
      "cell_type": "code",
      "metadata": {
        "id": "AGw4idZtEipj",
        "colab_type": "code",
        "outputId": "2eef5e89-2c96-4796-a70f-8c759af3973b",
        "colab": {
          "base_uri": "https://localhost:8080/",
          "height": 419
        }
      },
      "source": [
        "dataframe['Translated_Review'] = dataframe['Translated_Review'].apply(lambda sen: preprocess_text(sen))\n",
        "dataframe"
      ],
      "execution_count": 25,
      "outputs": [
        {
          "output_type": "execute_result",
          "data": {
            "text/html": [
              "<div>\n",
              "<style scoped>\n",
              "    .dataframe tbody tr th:only-of-type {\n",
              "        vertical-align: middle;\n",
              "    }\n",
              "\n",
              "    .dataframe tbody tr th {\n",
              "        vertical-align: top;\n",
              "    }\n",
              "\n",
              "    .dataframe thead th {\n",
              "        text-align: right;\n",
              "    }\n",
              "</style>\n",
              "<table border=\"1\" class=\"dataframe\">\n",
              "  <thead>\n",
              "    <tr style=\"text-align: right;\">\n",
              "      <th></th>\n",
              "      <th>Translated_Review</th>\n",
              "      <th>Sentiment</th>\n",
              "    </tr>\n",
              "  </thead>\n",
              "  <tbody>\n",
              "    <tr>\n",
              "      <th>0</th>\n",
              "      <td>like eat delicious food cooking food case best...</td>\n",
              "      <td>Positive</td>\n",
              "    </tr>\n",
              "    <tr>\n",
              "      <th>1</th>\n",
              "      <td>help eating healthy exercise regular basis</td>\n",
              "      <td>Positive</td>\n",
              "    </tr>\n",
              "    <tr>\n",
              "      <th>3</th>\n",
              "      <td>works great especially going grocery store</td>\n",
              "      <td>Positive</td>\n",
              "    </tr>\n",
              "    <tr>\n",
              "      <th>4</th>\n",
              "      <td>best idea us</td>\n",
              "      <td>Positive</td>\n",
              "    </tr>\n",
              "    <tr>\n",
              "      <th>5</th>\n",
              "      <td>best way</td>\n",
              "      <td>Positive</td>\n",
              "    </tr>\n",
              "    <tr>\n",
              "      <th>...</th>\n",
              "      <td>...</td>\n",
              "      <td>...</td>\n",
              "    </tr>\n",
              "    <tr>\n",
              "      <th>64222</th>\n",
              "      <td>ads older many agents much owner posted detail...</td>\n",
              "      <td>Positive</td>\n",
              "    </tr>\n",
              "    <tr>\n",
              "      <th>64223</th>\n",
              "      <td>photos posted portal load fit purpose sure sto...</td>\n",
              "      <td>Positive</td>\n",
              "    </tr>\n",
              "    <tr>\n",
              "      <th>64226</th>\n",
              "      <td>dumb app wanted post property rent give option...</td>\n",
              "      <td>Negative</td>\n",
              "    </tr>\n",
              "    <tr>\n",
              "      <th>64227</th>\n",
              "      <td>property business got link sms happy performan...</td>\n",
              "      <td>Positive</td>\n",
              "    </tr>\n",
              "    <tr>\n",
              "      <th>64230</th>\n",
              "      <td>useless app searched flats kondapur hyderabad ...</td>\n",
              "      <td>Negative</td>\n",
              "    </tr>\n",
              "  </tbody>\n",
              "</table>\n",
              "<p>37427 rows × 2 columns</p>\n",
              "</div>"
            ],
            "text/plain": [
              "                                       Translated_Review Sentiment\n",
              "0      like eat delicious food cooking food case best...  Positive\n",
              "1             help eating healthy exercise regular basis  Positive\n",
              "3             works great especially going grocery store  Positive\n",
              "4                                           best idea us  Positive\n",
              "5                                               best way  Positive\n",
              "...                                                  ...       ...\n",
              "64222  ads older many agents much owner posted detail...  Positive\n",
              "64223  photos posted portal load fit purpose sure sto...  Positive\n",
              "64226  dumb app wanted post property rent give option...  Negative\n",
              "64227  property business got link sms happy performan...  Positive\n",
              "64230  useless app searched flats kondapur hyderabad ...  Negative\n",
              "\n",
              "[37427 rows x 2 columns]"
            ]
          },
          "metadata": {
            "tags": []
          },
          "execution_count": 25
        }
      ]
    },
    {
      "cell_type": "markdown",
      "metadata": {
        "colab_type": "text",
        "id": "pXl_fyIseeAr"
      },
      "source": [
        "## Vectorize the data:"
      ]
    },
    {
      "cell_type": "markdown",
      "metadata": {
        "id": "LQ6ZF00yOEUd",
        "colab_type": "text"
      },
      "source": [
        "This section will aim to convert a text string into a vector, so that it can be treated by the neural network. First, in order to generate the training and validation sets, we will separate the dataframe into two independent variables so that we can treat them separately:"
      ]
    },
    {
      "cell_type": "code",
      "metadata": {
        "id": "N3uOofC1OiWq",
        "colab_type": "code",
        "colab": {}
      },
      "source": [
        "def determine_class(label):\n",
        "  if label == 'Positive':\n",
        "    return 0\n",
        "  elif label == 'Neutral':\n",
        "    return 1\n",
        "  elif label == 'Negative':\n",
        "    return 2\n",
        "\n",
        "# Poner la variable a True si se quieren eliminar los comentarios neutrales.\n",
        "# En caso contrario, los neutrales se convertirán a negativos\n",
        "REMOVE_NEUTRAL = False\n",
        "\n",
        "# Poner la variable a True (siempre que la anterior valga False) para considerar\n",
        "# las clases 'Negative' y 'Neutral' iguales.\n",
        "MERGE_NEGATIVE_NEUTRAL = False\n",
        "\n",
        "if REMOVE_NEUTRAL:\n",
        "  indexNames = dataframe[dataframe['Sentiment'] == 'Neutral'].index\n",
        "  dataframe.drop(indexNames , inplace=True)\n",
        "  y = dataframe['Sentiment'].apply(lambda x: 1 if x == 'Positive' else 0).to_numpy()\n",
        "else:\n",
        "  if MERGE_NEGATIVE_NEUTRAL:\n",
        "    y = dataframe['Sentiment'].apply(lambda x: 1 if x == 'Positive' else 0).to_numpy()\n",
        "  else: \n",
        "    y = dataframe['Sentiment'].apply(lambda x: determine_class(x)).to_numpy()\n",
        "\n",
        "X = dataframe['Translated_Review']\n",
        "y = y.astype(numpy.uint8)"
      ],
      "execution_count": 0,
      "outputs": []
    },
    {
      "cell_type": "markdown",
      "metadata": {
        "id": "rhVe6DkPPnsn",
        "colab_type": "text"
      },
      "source": [
        "From the `sklearn` library we can separate into two disjoint sets, containing 80% of the samples for the training set and the rest for the validation set."
      ]
    },
    {
      "cell_type": "code",
      "metadata": {
        "id": "Mi0RIEXrJWxB",
        "colab_type": "code",
        "colab": {}
      },
      "source": [
        "X_train, X_test, y_train, y_test = train_test_split(X, y, test_size=0.20, random_state=42)"
      ],
      "execution_count": 0,
      "outputs": []
    },
    {
      "cell_type": "markdown",
      "metadata": {
        "id": "Szy8AoZZP0Q1",
        "colab_type": "text"
      },
      "source": [
        "The next step is to determine the maximum number of words to be used (that is, the first most frequent $ n $ words) and the maximum length of each vector."
      ]
    },
    {
      "cell_type": "code",
      "metadata": {
        "id": "egrZRI1SP7EG",
        "colab_type": "code",
        "colab": {}
      },
      "source": [
        "from keras.preprocessing.text import Tokenizer\n",
        "from keras.preprocessing.sequence import pad_sequences"
      ],
      "execution_count": 0,
      "outputs": []
    },
    {
      "cell_type": "code",
      "metadata": {
        "id": "aUSQslBrPjeI",
        "colab_type": "code",
        "colab": {}
      },
      "source": [
        "NUMBER_OF_WORDS = 20000\n",
        "MAX_LEN = 100\n",
        "\n",
        "tokenizer = Tokenizer(num_words = NUMBER_OF_WORDS)\n",
        "tokenizer.fit_on_texts(X_train)\n",
        "\n",
        "X_train_original = X_train\n",
        "X_test_original = X_test\n",
        "X_train = tokenizer.texts_to_sequences(X_train)\n",
        "X_test = tokenizer.texts_to_sequences(X_test)\n",
        "\n",
        "X_train = pad_sequences(X_train, padding='post', maxlen=MAX_LEN)\n",
        "X_test = pad_sequences(X_test, padding='post', maxlen=MAX_LEN)"
      ],
      "execution_count": 0,
      "outputs": []
    },
    {
      "cell_type": "markdown",
      "metadata": {
        "colab_type": "text",
        "id": "K3bjyGgsefFM"
      },
      "source": [
        "Then, for those phrases that have words that are not the most frequent, the padding technique is performed by filling in those words that are not as frequent and do not appear with zeros.\n"
      ]
    },
    {
      "cell_type": "markdown",
      "metadata": {
        "colab_type": "text",
        "id": "frphdnGIefdq"
      },
      "source": [
        "## Create the RNN"
      ]
    },
    {
      "cell_type": "code",
      "metadata": {
        "id": "gDPVl5juD7At",
        "colab_type": "code",
        "colab": {}
      },
      "source": [
        "VOCABULARY_SIZE = NUMBER_OF_WORDS\n",
        "EMBEDDING_SIZE = 128"
      ],
      "execution_count": 0,
      "outputs": []
    },
    {
      "cell_type": "code",
      "metadata": {
        "id": "4-f-AAo2R66R",
        "colab_type": "code",
        "outputId": "bd2361c1-51a9-4135-c4b4-925e242b4db3",
        "colab": {
          "base_uri": "https://localhost:8080/",
          "height": 1000
        }
      },
      "source": [
        "model = tf.keras.Sequential()\n",
        "model.add(tf.keras.layers.Embedding(VOCABULARY_SIZE, \n",
        "                                    EMBEDDING_SIZE, \n",
        "                                    input_shape=(X_train.shape[1],)))\n",
        "\n",
        "model.add(tf.keras.layers.LSTM(units=128, activation='tanh'))\n",
        "\n",
        "\n",
        "#En units, se debe especificar cuantas clases tenemos. \n",
        "model.add(tf.keras.layers.Dense(units=numpy.unique(y_train).shape[0], \n",
        "                                activation='sigmoid'))\n",
        "\n",
        "model.compile(optimizer='rmsprop', \n",
        "                loss='sparse_categorical_crossentropy', \n",
        "                metrics=['sparse_categorical_accuracy'])\n",
        "  \n",
        "model.summary()\n",
        "\n",
        "model.fit(X_train, y_train, epochs=30, batch_size=128)"
      ],
      "execution_count": 56,
      "outputs": [
        {
          "output_type": "stream",
          "text": [
            "Model: \"sequential_2\"\n",
            "_________________________________________________________________\n",
            "Layer (type)                 Output Shape              Param #   \n",
            "=================================================================\n",
            "embedding_2 (Embedding)      (None, 100, 128)          2560000   \n",
            "_________________________________________________________________\n",
            "lstm_2 (LSTM)                (None, 128)               131584    \n",
            "_________________________________________________________________\n",
            "dense_2 (Dense)              (None, 3)                 387       \n",
            "=================================================================\n",
            "Total params: 2,691,971\n",
            "Trainable params: 2,691,971\n",
            "Non-trainable params: 0\n",
            "_________________________________________________________________\n",
            "Epoch 1/30\n",
            "234/234 [==============================] - 6s 24ms/step - loss: 0.8962 - sparse_categorical_accuracy: 0.6417\n",
            "Epoch 2/30\n",
            "234/234 [==============================] - 5s 21ms/step - loss: 0.8925 - sparse_categorical_accuracy: 0.6417\n",
            "Epoch 3/30\n",
            "234/234 [==============================] - 5s 22ms/step - loss: 0.8914 - sparse_categorical_accuracy: 0.6417\n",
            "Epoch 4/30\n",
            "234/234 [==============================] - 5s 22ms/step - loss: 0.8916 - sparse_categorical_accuracy: 0.6417\n",
            "Epoch 5/30\n",
            "234/234 [==============================] - 5s 22ms/step - loss: 0.8915 - sparse_categorical_accuracy: 0.6417\n",
            "Epoch 6/30\n",
            "234/234 [==============================] - 5s 23ms/step - loss: 0.8916 - sparse_categorical_accuracy: 0.6417\n",
            "Epoch 7/30\n",
            "234/234 [==============================] - 5s 22ms/step - loss: 0.8915 - sparse_categorical_accuracy: 0.6417\n",
            "Epoch 8/30\n",
            "234/234 [==============================] - 5s 22ms/step - loss: 0.8916 - sparse_categorical_accuracy: 0.6417\n",
            "Epoch 9/30\n",
            "234/234 [==============================] - 5s 21ms/step - loss: 0.8915 - sparse_categorical_accuracy: 0.6417\n",
            "Epoch 10/30\n",
            "234/234 [==============================] - 5s 22ms/step - loss: 0.8913 - sparse_categorical_accuracy: 0.6417\n",
            "Epoch 11/30\n",
            "234/234 [==============================] - 5s 22ms/step - loss: 0.8914 - sparse_categorical_accuracy: 0.6417\n",
            "Epoch 12/30\n",
            "234/234 [==============================] - 5s 22ms/step - loss: 0.8912 - sparse_categorical_accuracy: 0.6417\n",
            "Epoch 13/30\n",
            "234/234 [==============================] - 5s 21ms/step - loss: 0.8914 - sparse_categorical_accuracy: 0.6416\n",
            "Epoch 14/30\n",
            "234/234 [==============================] - 5s 21ms/step - loss: 0.8737 - sparse_categorical_accuracy: 0.6412\n",
            "Epoch 15/30\n",
            "234/234 [==============================] - 5s 21ms/step - loss: 0.8532 - sparse_categorical_accuracy: 0.6416\n",
            "Epoch 16/30\n",
            "234/234 [==============================] - 5s 22ms/step - loss: 0.8517 - sparse_categorical_accuracy: 0.6417\n",
            "Epoch 17/30\n",
            "234/234 [==============================] - 5s 22ms/step - loss: 0.8561 - sparse_categorical_accuracy: 0.6417\n",
            "Epoch 18/30\n",
            "234/234 [==============================] - 5s 22ms/step - loss: 0.8597 - sparse_categorical_accuracy: 0.6417\n",
            "Epoch 19/30\n",
            "234/234 [==============================] - 5s 23ms/step - loss: 0.8442 - sparse_categorical_accuracy: 0.6417\n",
            "Epoch 20/30\n",
            "234/234 [==============================] - 6s 24ms/step - loss: 0.8376 - sparse_categorical_accuracy: 0.6417\n",
            "Epoch 21/30\n",
            "234/234 [==============================] - 6s 24ms/step - loss: 0.8402 - sparse_categorical_accuracy: 0.6417\n",
            "Epoch 22/30\n",
            "234/234 [==============================] - 5s 23ms/step - loss: 0.7719 - sparse_categorical_accuracy: 0.6574\n",
            "Epoch 23/30\n",
            "234/234 [==============================] - 5s 23ms/step - loss: 0.6949 - sparse_categorical_accuracy: 0.7032\n",
            "Epoch 24/30\n",
            "234/234 [==============================] - 5s 23ms/step - loss: 0.8988 - sparse_categorical_accuracy: 0.6419\n",
            "Epoch 25/30\n",
            "234/234 [==============================] - 5s 21ms/step - loss: 0.5722 - sparse_categorical_accuracy: 0.7528\n",
            "Epoch 26/30\n",
            "234/234 [==============================] - 5s 21ms/step - loss: 0.4162 - sparse_categorical_accuracy: 0.8397\n",
            "Epoch 27/30\n",
            "234/234 [==============================] - 5s 22ms/step - loss: 0.2895 - sparse_categorical_accuracy: 0.9038\n",
            "Epoch 28/30\n",
            "234/234 [==============================] - 5s 21ms/step - loss: 0.2145 - sparse_categorical_accuracy: 0.9331\n",
            "Epoch 29/30\n",
            "234/234 [==============================] - 5s 21ms/step - loss: 0.1734 - sparse_categorical_accuracy: 0.9470\n",
            "Epoch 30/30\n",
            "234/234 [==============================] - 5s 22ms/step - loss: 0.1466 - sparse_categorical_accuracy: 0.9570\n"
          ],
          "name": "stdout"
        },
        {
          "output_type": "execute_result",
          "data": {
            "text/plain": [
              "<tensorflow.python.keras.callbacks.History at 0x7fa50647f7b8>"
            ]
          },
          "metadata": {
            "tags": []
          },
          "execution_count": 56
        }
      ]
    },
    {
      "cell_type": "code",
      "metadata": {
        "id": "d8cwTI3UR7VB",
        "colab_type": "code",
        "colab": {
          "base_uri": "https://localhost:8080/",
          "height": 51
        },
        "outputId": "acc47fb8-acb3-434f-bc38-561dd6de6188"
      },
      "source": [
        "test_loss, test_acurracy = model.evaluate(X_test, y_test)\n",
        "print(\"Test accuracy: {}\".format(test_acurracy))"
      ],
      "execution_count": 77,
      "outputs": [
        {
          "output_type": "stream",
          "text": [
            "234/234 [==============================] - 1s 4ms/step - loss: 0.2854 - sparse_categorical_accuracy: 0.9144\n",
            "Test accuracy: 0.914373517036438\n"
          ],
          "name": "stdout"
        }
      ]
    },
    {
      "cell_type": "code",
      "metadata": {
        "id": "p68rdCwazDTY",
        "colab_type": "code",
        "colab": {
          "base_uri": "https://localhost:8080/",
          "height": 119
        },
        "outputId": "942cf426-cce2-42cf-a23e-ed6035a6aeaf"
      },
      "source": [
        "X_test_original.head()"
      ],
      "execution_count": 81,
      "outputs": [
        {
          "output_type": "execute_result",
          "data": {
            "text/plain": [
              "31799    great game heats phone short time please recti...\n",
              "5707                                   maths formulas want\n",
              "62076    suggestions improvement change throttle adjust...\n",
              "18833          notifications work cellphone otherwise like\n",
              "11216                           helps speak polish friends\n",
              "Name: Translated_Review, dtype: object"
            ]
          },
          "metadata": {
            "tags": []
          },
          "execution_count": 81
        }
      ]
    },
    {
      "cell_type": "code",
      "metadata": {
        "id": "FXO5QvaqlMmC",
        "colab_type": "code",
        "colab": {
          "base_uri": "https://localhost:8080/",
          "height": 34
        },
        "outputId": "42908948-628b-4fca-dce8-5af372d2ded8"
      },
      "source": [
        "model.predict(X_test[0].reshape(1, X_test[0].shape[0]))"
      ],
      "execution_count": 78,
      "outputs": [
        {
          "output_type": "execute_result",
          "data": {
            "text/plain": [
              "array([[0.5797347 , 0.00081079, 0.00173335]], dtype=float32)"
            ]
          },
          "metadata": {
            "tags": []
          },
          "execution_count": 78
        }
      ]
    },
    {
      "cell_type": "code",
      "metadata": {
        "id": "i8R7_zQVzXZo",
        "colab_type": "code",
        "colab": {
          "base_uri": "https://localhost:8080/",
          "height": 34
        },
        "outputId": "3a5b92ca-6a90-4dc1-ae13-95e7bdf99a7f"
      },
      "source": [
        "model.predict_classes(X_test[0].reshape(1, X_test[0].shape[0]))"
      ],
      "execution_count": 85,
      "outputs": [
        {
          "output_type": "execute_result",
          "data": {
            "text/plain": [
              "array([0])"
            ]
          },
          "metadata": {
            "tags": []
          },
          "execution_count": 85
        }
      ]
    },
    {
      "cell_type": "code",
      "metadata": {
        "id": "zlrHoaWkiq1j",
        "colab_type": "code",
        "colab": {
          "base_uri": "https://localhost:8080/",
          "height": 51
        },
        "outputId": "ff573cff-2825-4ec0-a915-0fbf64b102c9"
      },
      "source": [
        "test = 'This app is really bad'\n",
        "test = tokenizer.texts_to_sequences(test)\n",
        "test = pad_sequences(test, padding='post', maxlen=MAX_LEN)\n",
        "print(model.predict(test[1].reshape(1, test[1].shape[0])))\n",
        "model.predict_classes(test[1].reshape(1, test[1].shape[0]))"
      ],
      "execution_count": 86,
      "outputs": [
        {
          "output_type": "stream",
          "text": [
            "[[0.01242092 0.39561883 0.00515131]]\n"
          ],
          "name": "stdout"
        },
        {
          "output_type": "execute_result",
          "data": {
            "text/plain": [
              "array([1])"
            ]
          },
          "metadata": {
            "tags": []
          },
          "execution_count": 86
        }
      ]
    },
    {
      "cell_type": "code",
      "metadata": {
        "id": "mvvHDhpWoFAA",
        "colab_type": "code",
        "colab": {}
      },
      "source": [
        ""
      ],
      "execution_count": 0,
      "outputs": []
    }
  ]
}